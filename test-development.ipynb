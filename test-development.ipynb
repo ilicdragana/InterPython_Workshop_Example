{
 "cells": [
  {
   "cell_type": "markdown",
   "id": "46f51850-8613-42ef-aba5-727d3d454470",
   "metadata": {
    "editable": true,
    "slideshow": {
     "slide_type": ""
    },
    "tags": []
   },
   "source": [
    "Feb 6, 2024\n",
    "\n",
    "This is my test development notebook."
   ]
  },
  {
   "cell_type": "markdown",
   "id": "eb10180f-5531-4e9a-a35d-7a2252cfbec3",
   "metadata": {
    "editable": true,
    "slideshow": {
     "slide_type": ""
    },
    "tags": []
   },
   "source": [
    "#### Imports"
   ]
  },
  {
   "cell_type": "code",
   "execution_count": 221,
   "id": "b995ae47-485e-4f6d-be40-e2c36725f929",
   "metadata": {},
   "outputs": [],
   "source": [
    "import pandas as pd\n",
    "import lcanalyzer.models as models\n",
    "import random\n",
    "import pandas.testing as pdt\n",
    "import pytest\n",
    "\n",
    "import numpy as np\n",
    "from functools import reduce\n",
    "import time\n"
   ]
  },
  {
   "cell_type": "markdown",
   "id": "9332a1b5-03aa-466e-bcaa-0a0c236bf7f9",
   "metadata": {
    "editable": true,
    "slideshow": {
     "slide_type": ""
    },
    "tags": []
   },
   "source": [
    "#### Params"
   ]
  },
  {
   "cell_type": "code",
   "execution_count": 111,
   "id": "5cb49059-e654-4905-8d5e-0aee9b8dcc25",
   "metadata": {},
   "outputs": [],
   "source": [
    "# Define the bands names\n",
    "bands = 'ugrizy'\n",
    "mag_col = 'psfMag'\n",
    "time_col = 'expMidptMJD'"
   ]
  },
  {
   "cell_type": "markdown",
   "id": "d38d428e-6d64-4bb8-9604-8c316890d2a2",
   "metadata": {},
   "source": [
    "#### Data loading"
   ]
  },
  {
   "cell_type": "code",
   "execution_count": 91,
   "id": "346b259c-6d5f-4e12-bfea-d00359b684dd",
   "metadata": {},
   "outputs": [
    {
     "name": "stdout",
     "output_type": "stream",
     "text": [
      "<class 'pandas.core.frame.DataFrame'>\n",
      "RangeIndex: 11177 entries, 0 to 11176\n",
      "Data columns (total 12 columns):\n",
      " #   Column       Non-Null Count  Dtype  \n",
      "---  ------       --------------  -----  \n",
      " 0   band         11177 non-null  object \n",
      " 1   ccdVisitId   11177 non-null  int64  \n",
      " 2   coord_ra     11177 non-null  float64\n",
      " 3   coord_dec    11177 non-null  float64\n",
      " 4   objectId     11177 non-null  int64  \n",
      " 5   psfFlux      11177 non-null  float64\n",
      " 6   psfFluxErr   11177 non-null  float64\n",
      " 7   psfMag       10944 non-null  float64\n",
      " 8   ccdVisitId2  11177 non-null  int64  \n",
      " 9   band2        11177 non-null  object \n",
      " 10  expMidptMJD  11177 non-null  float64\n",
      " 11  zeroPoint    11177 non-null  float32\n",
      "dtypes: float32(1), float64(6), int64(3), object(2)\n",
      "memory usage: 1004.3+ KB\n"
     ]
    }
   ],
   "source": [
    "lc_datasets = {}\n",
    "lc_datasets['lsst'] = pd.read_pickle('data/lsst_RRLyr.pkl')\n",
    "lc_datasets['lsst'].info()\n"
   ]
  },
  {
   "cell_type": "markdown",
   "id": "cb9afe89-e7ea-4036-a889-dae962e08ff1",
   "metadata": {},
   "source": [
    "#### Data inspection"
   ]
  },
  {
   "cell_type": "code",
   "execution_count": 92,
   "id": "45045312-a0dc-47a9-b08b-f1de0a38136c",
   "metadata": {},
   "outputs": [
    {
     "data": {
      "text/html": [
       "<div>\n",
       "<style scoped>\n",
       "    .dataframe tbody tr th:only-of-type {\n",
       "        vertical-align: middle;\n",
       "    }\n",
       "\n",
       "    .dataframe tbody tr th {\n",
       "        vertical-align: top;\n",
       "    }\n",
       "\n",
       "    .dataframe thead th {\n",
       "        text-align: right;\n",
       "    }\n",
       "</style>\n",
       "<table border=\"1\" class=\"dataframe\">\n",
       "  <thead>\n",
       "    <tr style=\"text-align: right;\">\n",
       "      <th></th>\n",
       "      <th>band</th>\n",
       "      <th>ccdVisitId</th>\n",
       "      <th>coord_ra</th>\n",
       "      <th>coord_dec</th>\n",
       "      <th>objectId</th>\n",
       "      <th>psfFlux</th>\n",
       "      <th>psfFluxErr</th>\n",
       "      <th>psfMag</th>\n",
       "      <th>ccdVisitId2</th>\n",
       "      <th>band2</th>\n",
       "      <th>expMidptMJD</th>\n",
       "      <th>zeroPoint</th>\n",
       "    </tr>\n",
       "  </thead>\n",
       "  <tbody>\n",
       "    <tr>\n",
       "      <th>0</th>\n",
       "      <td>y</td>\n",
       "      <td>1032263018</td>\n",
       "      <td>62.462569</td>\n",
       "      <td>-44.11336</td>\n",
       "      <td>1251384969897480052</td>\n",
       "      <td>-515.183603</td>\n",
       "      <td>1697.218490</td>\n",
       "      <td>NaN</td>\n",
       "      <td>1032263018</td>\n",
       "      <td>y</td>\n",
       "      <td>61100.069706</td>\n",
       "      <td>30.602301</td>\n",
       "    </tr>\n",
       "    <tr>\n",
       "      <th>1</th>\n",
       "      <td>y</td>\n",
       "      <td>1033987172</td>\n",
       "      <td>62.462569</td>\n",
       "      <td>-44.11336</td>\n",
       "      <td>1251384969897480052</td>\n",
       "      <td>3151.738459</td>\n",
       "      <td>1686.955775</td>\n",
       "      <td>22.653625</td>\n",
       "      <td>1033987172</td>\n",
       "      <td>y</td>\n",
       "      <td>61102.068464</td>\n",
       "      <td>30.606100</td>\n",
       "    </tr>\n",
       "    <tr>\n",
       "      <th>2</th>\n",
       "      <td>u</td>\n",
       "      <td>675163080</td>\n",
       "      <td>62.462569</td>\n",
       "      <td>-44.11336</td>\n",
       "      <td>1251384969897480052</td>\n",
       "      <td>183.449123</td>\n",
       "      <td>209.242045</td>\n",
       "      <td>25.741211</td>\n",
       "      <td>675163080</td>\n",
       "      <td>u</td>\n",
       "      <td>60582.247144</td>\n",
       "      <td>30.469101</td>\n",
       "    </tr>\n",
       "    <tr>\n",
       "      <th>3</th>\n",
       "      <td>y</td>\n",
       "      <td>443055067</td>\n",
       "      <td>62.462569</td>\n",
       "      <td>-44.11336</td>\n",
       "      <td>1251384969897480052</td>\n",
       "      <td>-704.848327</td>\n",
       "      <td>1624.400086</td>\n",
       "      <td>NaN</td>\n",
       "      <td>443055067</td>\n",
       "      <td>y</td>\n",
       "      <td>60215.203585</td>\n",
       "      <td>30.612801</td>\n",
       "    </tr>\n",
       "    <tr>\n",
       "      <th>4</th>\n",
       "      <td>u</td>\n",
       "      <td>466722002</td>\n",
       "      <td>62.462569</td>\n",
       "      <td>-44.11336</td>\n",
       "      <td>1251384969897480052</td>\n",
       "      <td>382.472233</td>\n",
       "      <td>278.926670</td>\n",
       "      <td>24.943500</td>\n",
       "      <td>466722002</td>\n",
       "      <td>u</td>\n",
       "      <td>60261.078221</td>\n",
       "      <td>30.461201</td>\n",
       "    </tr>\n",
       "  </tbody>\n",
       "</table>\n",
       "</div>"
      ],
      "text/plain": [
       "  band  ccdVisitId   coord_ra  coord_dec             objectId      psfFlux  \\\n",
       "0    y  1032263018  62.462569  -44.11336  1251384969897480052  -515.183603   \n",
       "1    y  1033987172  62.462569  -44.11336  1251384969897480052  3151.738459   \n",
       "2    u   675163080  62.462569  -44.11336  1251384969897480052   183.449123   \n",
       "3    y   443055067  62.462569  -44.11336  1251384969897480052  -704.848327   \n",
       "4    u   466722002  62.462569  -44.11336  1251384969897480052   382.472233   \n",
       "\n",
       "    psfFluxErr     psfMag  ccdVisitId2 band2   expMidptMJD  zeroPoint  \n",
       "0  1697.218490        NaN   1032263018     y  61100.069706  30.602301  \n",
       "1  1686.955775  22.653625   1033987172     y  61102.068464  30.606100  \n",
       "2   209.242045  25.741211    675163080     u  60582.247144  30.469101  \n",
       "3  1624.400086        NaN    443055067     y  60215.203585  30.612801  \n",
       "4   278.926670  24.943500    466722002     u  60261.078221  30.461201  "
      ]
     },
     "execution_count": 92,
     "metadata": {},
     "output_type": "execute_result"
    }
   ],
   "source": [
    "lc_datasets['lsst'].head()"
   ]
  },
  {
   "cell_type": "markdown",
   "id": "49741ff0-f77a-4dce-ad64-d4d2e8552fa3",
   "metadata": {},
   "source": [
    "#### Selecting light curves for a single object"
   ]
  },
  {
   "cell_type": "code",
   "execution_count": 93,
   "id": "d5e75d71-e26f-4dc1-91ae-dcc5ec66e6f3",
   "metadata": {},
   "outputs": [],
   "source": [
    "### Pick an object\n",
    "obj_id = lc_datasets['lsst']['objectId'].unique()[4]\n"
   ]
  },
  {
   "cell_type": "code",
   "execution_count": 94,
   "id": "67d60df0-acb8-474f-b2f9-1946b6b0e5fc",
   "metadata": {},
   "outputs": [],
   "source": [
    "### Get all the observations for this obj_id for each band\n",
    "# Create an empty dict\n",
    "lc = {}\n",
    "\n",
    "# For each band create a bool array that indicates\n",
    "# that this observation belongs to a certain object and is made in a\n",
    "# certain band\n",
    "for b in bands:\n",
    "    filt_band_obj = (lc_datasets['lsst']['objectId'] == obj_id) & (\n",
    "        lc_datasets['lsst']['band'] == b\n",
    "    )\n",
    "    # Select the observations and store in the dict 'lc'\n",
    "    lc[b] = lc_datasets['lsst'][filt_band_obj]\n"
   ]
  },
  {
   "cell_type": "markdown",
   "id": "e39aa3fd-64e1-47e6-a4f5-956f039f526b",
   "metadata": {},
   "source": [
    "#### Trying the model.py functions"
   ]
  },
  {
   "cell_type": "code",
   "execution_count": 95,
   "id": "01c0204c-ae35-40cf-af46-a61955b5d43d",
   "metadata": {},
   "outputs": [
    {
     "data": {
      "text/plain": [
       "19.183367224358136"
      ]
     },
     "execution_count": 95,
     "metadata": {},
     "output_type": "execute_result"
    }
   ],
   "source": [
    "models.max_mag(lc['g'], mag_col)"
   ]
  },
  {
   "cell_type": "markdown",
   "id": "bc3ffc54-fca2-468f-81a2-7d848b7083e3",
   "metadata": {},
   "source": [
    "#### Test development"
   ]
  },
  {
   "cell_type": "code",
   "execution_count": 96,
   "id": "eff9bf74-f926-4ba5-9f39-de54478c72c6",
   "metadata": {},
   "outputs": [
    {
     "data": {
      "text/plain": [
       "True"
      ]
     },
     "execution_count": 96,
     "metadata": {},
     "output_type": "execute_result"
    }
   ],
   "source": [
    "test_input = pd.DataFrame(data=[[1, 5, 3], [7, 8, 9], [3, 4, 1]], columns=list(\"abc\"))\n",
    "test_output = 7\n",
    "models.max_mag(test_input, \"a\") == test_output"
   ]
  },
  {
   "cell_type": "code",
   "execution_count": 97,
   "id": "ad787bea-4152-456d-a09c-5ee98338cac4",
   "metadata": {
    "editable": true,
    "slideshow": {
     "slide_type": ""
    },
    "tags": []
   },
   "outputs": [],
   "source": [
    "### Get maximum values for all bands\n",
    "def calc_stat(lc, bands, mag_col):\n",
    "    # Define an empty dictionary where we will store the results\n",
    "    stat = {}\n",
    "    # For each band get the maximum value and store it in the dictionary\n",
    "    for b in bands:\n",
    "        stat[b + \"_max\"] = models.max_mag(lc[b], mag_col)\n",
    "    return stat\n"
   ]
  },
  {
   "cell_type": "code",
   "execution_count": 98,
   "id": "b9590ab8-42b3-41a0-8287-284bf8f03766",
   "metadata": {},
   "outputs": [
    {
     "data": {
      "text/plain": [
       "False"
      ]
     },
     "execution_count": 98,
     "metadata": {},
     "output_type": "execute_result"
    }
   ],
   "source": [
    "df1 = pd.DataFrame(data=[[1, 5, 3], [7, 8, 9], [3, 4, 1]], columns=list(\"abc\"))\n",
    "df2 = pd.DataFrame(data=[[7, 3, 2], [8, 4, 2], [5, 6, 4]], columns=list(\"abc\"))\n",
    "df3 = pd.DataFrame(data=[[2, 6, 3], [1, 3, 6], [8, 9, 1]], columns=list(\"abc\"))\n",
    "test_input = {\"df1\": df1, \"df2\": df2, \"df3\": df3}\n",
    "test_output = {\"df1_max\": 8, \"df12_max\": 6, \"df3_max\": 8}\n",
    "test_output == calc_stat(test_input, [\"df1\", \"df2\", \"df3\"], \"b\")"
   ]
  },
  {
   "cell_type": "code",
   "execution_count": 99,
   "id": "9a02eca1-527e-44a7-ab81-116110c3a08b",
   "metadata": {
    "editable": true,
    "slideshow": {
     "slide_type": ""
    },
    "tags": []
   },
   "outputs": [
    {
     "name": "stdout",
     "output_type": "stream",
     "text": [
      "[17, 72, 97, 8, 32, 15, 63, 57, 60, 83]\n",
      "[17, 72, 97, 8, 32, 15, 63, 57, 60, 83]\n",
      "[17, 72, 97, 8, 32, 15, 63, 57, 60, 83]\n"
     ]
    }
   ],
   "source": [
    "random.seed(1)\n",
    "print(random.sample(range(0, 100), 10))\n",
    "random.seed(1)\n",
    "print(random.sample(range(0, 100), 10))\n",
    "random.seed(1)\n",
    "print(random.sample(range(0, 100), 10))\n"
   ]
  },
  {
   "cell_type": "code",
   "execution_count": 100,
   "id": "4cfc3294-d0a0-4c44-b561-d76c45f25448",
   "metadata": {
    "editable": true,
    "slideshow": {
     "slide_type": ""
    },
    "tags": []
   },
   "outputs": [],
   "source": [
    "def calc_stats(lc, bands, mag_col):\n",
    "    # Calculate max, mean and min values for all bands of a light curve\n",
    "    stats = {}\n",
    "    for b in bands:\n",
    "        stat = {}\n",
    "        stat[\"max\"] = models.max_mag(lc[b], mag_col)\n",
    "        stat[\"mean\"] = models.mean_mag(lc[b], mag_col)\n",
    "        stat[\"min\"] = models.min_mag(lc[b], mag_col)\n",
    "        stats[b] = stat\n",
    "    return pd.DataFrame.from_records(stats)\n"
   ]
  },
  {
   "cell_type": "code",
   "execution_count": 101,
   "id": "b0c42d76-ab0e-4904-8e8f-0256dfe75eb4",
   "metadata": {},
   "outputs": [],
   "source": [
    "test_cols = list(\"abc\")\n",
    "test_dict = {}\n",
    "test_dict[\"df0\"] = pd.DataFrame(\n",
    "    data=[[8, 8, 0], \n",
    "          [0, 1, 1], \n",
    "          [2, 3, 1], \n",
    "          [7, 9, 7]], columns=test_cols\n",
    ")\n",
    "test_dict[\"df1\"] = pd.DataFrame(\n",
    "    data=[[3, 8, 2], \n",
    "          [3, 8, 0], \n",
    "          [3, 9, 8], \n",
    "          [8, 2, 5]], columns=test_cols\n",
    ")\n",
    "test_dict[\"df2\"] = pd.DataFrame(\n",
    "    data=[[8, 4, 3], \n",
    "          [7, 6, 3], \n",
    "          [4, 2, 9], \n",
    "          [6, 4, 0]], columns=test_cols\n",
    ")\n"
   ]
  },
  {
   "cell_type": "code",
   "execution_count": 102,
   "id": "e107d303-322e-4cf7-9089-387f066bf6e3",
   "metadata": {
    "editable": true,
    "slideshow": {
     "slide_type": ""
    },
    "tags": []
   },
   "outputs": [],
   "source": [
    "test_output = pd.DataFrame(data=[[9,9,6],[5.25,6.75,4.],[1,2,2]],columns=['df0','df1','df2'],index=['max','mean','min'])"
   ]
  },
  {
   "cell_type": "code",
   "execution_count": 104,
   "id": "e40c6b7b-1860-439e-8143-66ab8de6d594",
   "metadata": {},
   "outputs": [
    {
     "data": {
      "text/html": [
       "<div>\n",
       "<style scoped>\n",
       "    .dataframe tbody tr th:only-of-type {\n",
       "        vertical-align: middle;\n",
       "    }\n",
       "\n",
       "    .dataframe tbody tr th {\n",
       "        vertical-align: top;\n",
       "    }\n",
       "\n",
       "    .dataframe thead th {\n",
       "        text-align: right;\n",
       "    }\n",
       "</style>\n",
       "<table border=\"1\" class=\"dataframe\">\n",
       "  <thead>\n",
       "    <tr style=\"text-align: right;\">\n",
       "      <th></th>\n",
       "      <th>df0</th>\n",
       "      <th>df1</th>\n",
       "      <th>df2</th>\n",
       "    </tr>\n",
       "  </thead>\n",
       "  <tbody>\n",
       "    <tr>\n",
       "      <th>max</th>\n",
       "      <td>9.00</td>\n",
       "      <td>9.00</td>\n",
       "      <td>6.0</td>\n",
       "    </tr>\n",
       "    <tr>\n",
       "      <th>mean</th>\n",
       "      <td>5.25</td>\n",
       "      <td>6.75</td>\n",
       "      <td>4.0</td>\n",
       "    </tr>\n",
       "    <tr>\n",
       "      <th>min</th>\n",
       "      <td>1.00</td>\n",
       "      <td>2.00</td>\n",
       "      <td>2.0</td>\n",
       "    </tr>\n",
       "  </tbody>\n",
       "</table>\n",
       "</div>"
      ],
      "text/plain": [
       "       df0   df1  df2\n",
       "max   9.00  9.00  6.0\n",
       "mean  5.25  6.75  4.0\n",
       "min   1.00  2.00  2.0"
      ]
     },
     "execution_count": 104,
     "metadata": {},
     "output_type": "execute_result"
    }
   ],
   "source": [
    "test_output"
   ]
  },
  {
   "cell_type": "code",
   "execution_count": 105,
   "id": "1e56a5bc-04d6-4184-8a43-f8c28ef47478",
   "metadata": {},
   "outputs": [
    {
     "data": {
      "text/html": [
       "<div>\n",
       "<style scoped>\n",
       "    .dataframe tbody tr th:only-of-type {\n",
       "        vertical-align: middle;\n",
       "    }\n",
       "\n",
       "    .dataframe tbody tr th {\n",
       "        vertical-align: top;\n",
       "    }\n",
       "\n",
       "    .dataframe thead th {\n",
       "        text-align: right;\n",
       "    }\n",
       "</style>\n",
       "<table border=\"1\" class=\"dataframe\">\n",
       "  <thead>\n",
       "    <tr style=\"text-align: right;\">\n",
       "      <th></th>\n",
       "      <th>df0</th>\n",
       "      <th>df1</th>\n",
       "      <th>df2</th>\n",
       "    </tr>\n",
       "  </thead>\n",
       "  <tbody>\n",
       "    <tr>\n",
       "      <th>max</th>\n",
       "      <td>9.00</td>\n",
       "      <td>9.00</td>\n",
       "      <td>6.0</td>\n",
       "    </tr>\n",
       "    <tr>\n",
       "      <th>mean</th>\n",
       "      <td>5.25</td>\n",
       "      <td>6.75</td>\n",
       "      <td>4.0</td>\n",
       "    </tr>\n",
       "    <tr>\n",
       "      <th>min</th>\n",
       "      <td>1.00</td>\n",
       "      <td>2.00</td>\n",
       "      <td>2.0</td>\n",
       "    </tr>\n",
       "  </tbody>\n",
       "</table>\n",
       "</div>"
      ],
      "text/plain": [
       "       df0   df1  df2\n",
       "max   9.00  9.00  6.0\n",
       "mean  5.25  6.75  4.0\n",
       "min   1.00  2.00  2.0"
      ]
     },
     "execution_count": 105,
     "metadata": {},
     "output_type": "execute_result"
    }
   ],
   "source": [
    "calc_stats(test_dict, test_dict.keys(), 'b')"
   ]
  },
  {
   "cell_type": "code",
   "execution_count": 106,
   "id": "2d5c4d82-580e-4282-83ed-330067371ffe",
   "metadata": {
    "editable": true,
    "slideshow": {
     "slide_type": ""
    },
    "tags": []
   },
   "outputs": [],
   "source": [
    "#assert calc_stats(test_dict, test_dict.keys(), 'b') == test_output"
   ]
  },
  {
   "cell_type": "code",
   "execution_count": 107,
   "id": "bba2e700-57cb-4669-b02b-27b44c6faa36",
   "metadata": {
    "editable": true,
    "slideshow": {
     "slide_type": ""
    },
    "tags": []
   },
   "outputs": [],
   "source": [
    "pdt.assert_frame_equal(calc_stats(test_dict, test_dict.keys(), 'b'),\n",
    "                              test_output,\n",
    "                             check_exact=False,\n",
    "                             atol=0.01)"
   ]
  },
  {
   "cell_type": "code",
   "execution_count": 108,
   "id": "0136f957-3124-4784-8046-233575f12216",
   "metadata": {
    "editable": true,
    "slideshow": {
     "slide_type": ""
    },
    "tags": []
   },
   "outputs": [],
   "source": []
  },
  {
   "cell_type": "code",
   "execution_count": null,
   "id": "b7584847-a62c-4311-a9d0-606fdfd7ffd7",
   "metadata": {
    "editable": true,
    "slideshow": {
     "slide_type": ""
    },
    "tags": []
   },
   "outputs": [],
   "source": []
  },
  {
   "cell_type": "code",
   "execution_count": 63,
   "id": "b0fe2bfd-9dbc-441a-b85f-41d3ce475e90",
   "metadata": {
    "editable": true,
    "slideshow": {
     "slide_type": ""
    },
    "tags": []
   },
   "outputs": [],
   "source": [
    "\n"
   ]
  },
  {
   "cell_type": "code",
   "execution_count": null,
   "id": "4a6edec2-bd1f-4e66-8770-948c58b25928",
   "metadata": {},
   "outputs": [],
   "source": []
  },
  {
   "cell_type": "code",
   "execution_count": null,
   "id": "f2a174ff-81e0-4118-b0f8-17a6bc5bdc03",
   "metadata": {},
   "outputs": [],
   "source": []
  },
  {
   "cell_type": "code",
   "execution_count": null,
   "id": "63beae00-d940-4557-9fb5-55fe31e0258b",
   "metadata": {},
   "outputs": [],
   "source": []
  },
  {
   "cell_type": "code",
   "execution_count": null,
   "id": "46ea72eb-7ba7-479a-b3ba-33b5f0cce0be",
   "metadata": {},
   "outputs": [],
   "source": []
  },
  {
   "cell_type": "code",
   "execution_count": 64,
   "id": "358d9bf5-662e-47d2-ab9c-323f973dd14d",
   "metadata": {},
   "outputs": [],
   "source": [
    "# Procedural style factorial function.\n",
    "\n",
    "def factorial(n):\n",
    "    \"\"\"Calculate the factorial of a given number.\n",
    "\n",
    "    :param int n: The factorial to calculate\n",
    "    :return: The resultant factorial\n",
    "    \"\"\"\n",
    "    if n < 0:\n",
    "        raise ValueError('Only use non-negative integers.')\n",
    "\n",
    "    factorial = 1\n",
    "    for i in range(1, n + 1): # iterate from 1 to n\n",
    "        # save intermediate value to use in the next iteration\n",
    "        factorial = factorial * i\n",
    "\n",
    "    return factorial\n"
   ]
  },
  {
   "cell_type": "code",
   "execution_count": 65,
   "id": "f0f212c6-0a96-49bb-af74-91ed2ba9810f",
   "metadata": {},
   "outputs": [],
   "source": [
    "# Functional style factorial function\n",
    "\n",
    "def factorial(n):\n",
    "    \"\"\"Calculate the factorial of a given number.\n",
    "\n",
    "    :param int n: The factorial to calculate\n",
    "    :return: The resultant factorial\n",
    "    \"\"\"\n",
    "    if n < 0:\n",
    "        raise ValueError('Only use non-negative integers.')\n",
    "\n",
    "    if n == 0 or n == 1:\n",
    "        return 1 # exit from recursion, prevents infinite loops\n",
    "    else:\n",
    "        return  n * factorial(n-1) # recursive call to the same function\n"
   ]
  },
  {
   "cell_type": "code",
   "execution_count": 73,
   "id": "2548abca-831d-413e-8275-586f31b1dc79",
   "metadata": {},
   "outputs": [],
   "source": [
    "def add_one(x):\n",
    "    return x + 1\n",
    "\n",
    "def say_hello(name):\n",
    "    print('Hello', name)\n",
    "\n",
    "def append_item_1(a_list, item):\n",
    "    a_list += [item]\n",
    "    return a_list\n",
    "\n",
    "def append_item_2(a_list, item):\n",
    "    result = a_list + [item]\n",
    "    return result\n",
    "\n",
    "def add_two(x):\n",
    "    return add_one(add_one(x))\n"
   ]
  },
  {
   "cell_type": "code",
   "execution_count": 72,
   "id": "c64822fd-9376-483f-b503-b32ecc78822f",
   "metadata": {},
   "outputs": [
    {
     "name": "stdout",
     "output_type": "stream",
     "text": [
      "[0, 0, 1, 1]\n",
      "[0, 0, 1, 1]\n",
      "[0, 0, 1]\n",
      "[0, 0, 1, 1]\n"
     ]
    }
   ],
   "source": [
    "c1=[0,0,1]\n",
    "c2=[0,0,1]\n",
    "b1 = append_item_1(c1,1)\n",
    "b2 = append_item_2(c2,1)\n",
    "print(c1)\n",
    "print(b1)\n",
    "print(c2)\n",
    "print(b2)"
   ]
  },
  {
   "cell_type": "code",
   "execution_count": 75,
   "id": "f231d329-ed2c-44f6-8c06-09a4576d37d6",
   "metadata": {},
   "outputs": [
    {
     "name": "stdout",
     "output_type": "stream",
     "text": [
      "3\n"
     ]
    }
   ],
   "source": [
    "b = add_one(2)\n",
    "print(b)"
   ]
  },
  {
   "cell_type": "code",
   "execution_count": 76,
   "id": "b5cc3c25-a8eb-4362-9599-0183a2b0a9ab",
   "metadata": {},
   "outputs": [
    {
     "name": "stdout",
     "output_type": "stream",
     "text": [
      "4\n"
     ]
    }
   ],
   "source": [
    "c=add_two(2)\n",
    "print(c)"
   ]
  },
  {
   "cell_type": "code",
   "execution_count": 79,
   "id": "5391160c-1cfb-43bf-ab77-d0182e17c548",
   "metadata": {},
   "outputs": [
    {
     "name": "stdout",
     "output_type": "stream",
     "text": [
      "[4, 4, 3]\n"
     ]
    }
   ],
   "source": [
    "#This is a simple mapping that takes a list of names and returns \n",
    "#a list of the lengths of those names using the built-in function len():\n",
    "\n",
    "name_lengths = map(len, [\"Mary\", \"Isla\", \"Sam\"])\n",
    "print(list(name_lengths))\n"
   ]
  },
  {
   "cell_type": "code",
   "execution_count": 80,
   "id": "d27c9649-343e-4048-89a4-accfd394ac32",
   "metadata": {},
   "outputs": [
    {
     "name": "stdout",
     "output_type": "stream",
     "text": [
      "[0, 1, 4, 9, 16]\n"
     ]
    }
   ],
   "source": [
    "#This is a mapping that squares every number in the passed collection using anonymous, \n",
    "#inlined lambda expression (a simple one-line mathematical expression representing a function):\n",
    "\n",
    "squares = map(lambda x: x * x, [0, 1, 2, 3, 4])\n",
    "print(list(squares))\n"
   ]
  },
  {
   "cell_type": "code",
   "execution_count": 109,
   "id": "c2ecdf4e-37d3-473b-9945-a4c454887df2",
   "metadata": {},
   "outputs": [
    {
     "data": {
      "text/html": [
       "<div>\n",
       "<style scoped>\n",
       "    .dataframe tbody tr th:only-of-type {\n",
       "        vertical-align: middle;\n",
       "    }\n",
       "\n",
       "    .dataframe tbody tr th {\n",
       "        vertical-align: top;\n",
       "    }\n",
       "\n",
       "    .dataframe thead th {\n",
       "        text-align: right;\n",
       "    }\n",
       "</style>\n",
       "<table border=\"1\" class=\"dataframe\">\n",
       "  <thead>\n",
       "    <tr style=\"text-align: right;\">\n",
       "      <th></th>\n",
       "      <th>band</th>\n",
       "      <th>ccdVisitId</th>\n",
       "      <th>coord_ra</th>\n",
       "      <th>coord_dec</th>\n",
       "      <th>objectId</th>\n",
       "      <th>psfFlux</th>\n",
       "      <th>psfFluxErr</th>\n",
       "      <th>psfMag</th>\n",
       "      <th>ccdVisitId2</th>\n",
       "      <th>band2</th>\n",
       "      <th>expMidptMJD</th>\n",
       "      <th>zeroPoint</th>\n",
       "    </tr>\n",
       "  </thead>\n",
       "  <tbody>\n",
       "    <tr>\n",
       "      <th>0</th>\n",
       "      <td>y</td>\n",
       "      <td>1032263018</td>\n",
       "      <td>62.462569</td>\n",
       "      <td>-44.11336</td>\n",
       "      <td>1251384969897480052</td>\n",
       "      <td>-515.183603</td>\n",
       "      <td>1697.218490</td>\n",
       "      <td>NaN</td>\n",
       "      <td>1032263018</td>\n",
       "      <td>y</td>\n",
       "      <td>61100.069706</td>\n",
       "      <td>30.602301</td>\n",
       "    </tr>\n",
       "    <tr>\n",
       "      <th>1</th>\n",
       "      <td>y</td>\n",
       "      <td>1033987172</td>\n",
       "      <td>62.462569</td>\n",
       "      <td>-44.11336</td>\n",
       "      <td>1251384969897480052</td>\n",
       "      <td>3151.738459</td>\n",
       "      <td>1686.955775</td>\n",
       "      <td>22.653625</td>\n",
       "      <td>1033987172</td>\n",
       "      <td>y</td>\n",
       "      <td>61102.068464</td>\n",
       "      <td>30.606100</td>\n",
       "    </tr>\n",
       "    <tr>\n",
       "      <th>2</th>\n",
       "      <td>u</td>\n",
       "      <td>675163080</td>\n",
       "      <td>62.462569</td>\n",
       "      <td>-44.11336</td>\n",
       "      <td>1251384969897480052</td>\n",
       "      <td>183.449123</td>\n",
       "      <td>209.242045</td>\n",
       "      <td>25.741211</td>\n",
       "      <td>675163080</td>\n",
       "      <td>u</td>\n",
       "      <td>60582.247144</td>\n",
       "      <td>30.469101</td>\n",
       "    </tr>\n",
       "    <tr>\n",
       "      <th>3</th>\n",
       "      <td>y</td>\n",
       "      <td>443055067</td>\n",
       "      <td>62.462569</td>\n",
       "      <td>-44.11336</td>\n",
       "      <td>1251384969897480052</td>\n",
       "      <td>-704.848327</td>\n",
       "      <td>1624.400086</td>\n",
       "      <td>NaN</td>\n",
       "      <td>443055067</td>\n",
       "      <td>y</td>\n",
       "      <td>60215.203585</td>\n",
       "      <td>30.612801</td>\n",
       "    </tr>\n",
       "    <tr>\n",
       "      <th>4</th>\n",
       "      <td>u</td>\n",
       "      <td>466722002</td>\n",
       "      <td>62.462569</td>\n",
       "      <td>-44.11336</td>\n",
       "      <td>1251384969897480052</td>\n",
       "      <td>382.472233</td>\n",
       "      <td>278.926670</td>\n",
       "      <td>24.943500</td>\n",
       "      <td>466722002</td>\n",
       "      <td>u</td>\n",
       "      <td>60261.078221</td>\n",
       "      <td>30.461201</td>\n",
       "    </tr>\n",
       "  </tbody>\n",
       "</table>\n",
       "</div>"
      ],
      "text/plain": [
       "  band  ccdVisitId   coord_ra  coord_dec             objectId      psfFlux  \\\n",
       "0    y  1032263018  62.462569  -44.11336  1251384969897480052  -515.183603   \n",
       "1    y  1033987172  62.462569  -44.11336  1251384969897480052  3151.738459   \n",
       "2    u   675163080  62.462569  -44.11336  1251384969897480052   183.449123   \n",
       "3    y   443055067  62.462569  -44.11336  1251384969897480052  -704.848327   \n",
       "4    u   466722002  62.462569  -44.11336  1251384969897480052   382.472233   \n",
       "\n",
       "    psfFluxErr     psfMag  ccdVisitId2 band2   expMidptMJD  zeroPoint  \n",
       "0  1697.218490        NaN   1032263018     y  61100.069706  30.602301  \n",
       "1  1686.955775  22.653625   1033987172     y  61102.068464  30.606100  \n",
       "2   209.242045  25.741211    675163080     u  60582.247144  30.469101  \n",
       "3  1624.400086        NaN    443055067     y  60215.203585  30.612801  \n",
       "4   278.926670  24.943500    466722002     u  60261.078221  30.461201  "
      ]
     },
     "execution_count": 109,
     "metadata": {},
     "output_type": "execute_result"
    }
   ],
   "source": [
    "lc_datasets['lsst'].head()"
   ]
  },
  {
   "cell_type": "code",
   "execution_count": 118,
   "id": "03f80a5c-e184-4e54-87cb-c14dfa516136",
   "metadata": {
    "editable": true,
    "slideshow": {
     "slide_type": ""
    },
    "tags": []
   },
   "outputs": [],
   "source": [
    "# Create an empty list where we will be storing our light curves\n",
    "lcs = []\n",
    "\n",
    "#For each observed object\n",
    "for obj_id in lc_datasets[\"lsst\"][\"objectId\"].unique():\n",
    "    # Create an empty dict for the light curves of this object\n",
    "    lc = {}\n",
    "    lc['objectId'] = obj_id\n",
    "    for b in bands:\n",
    "        filt_band_obj = (lc_datasets[\"lsst\"][\"objectId\"] == obj_id) & (\n",
    "            lc_datasets[\"lsst\"][\"band\"] == b\n",
    "        )\n",
    "        # The observations in each band are converted to lists and stored as dict elements\n",
    "        lc[b+'_'+mag_col] = np.array(lc_datasets[\"lsst\"][filt_band_obj][mag_col])\n",
    "        lc[b+'_'+time_col] = np.array(lc_datasets[\"lsst\"][filt_band_obj][time_col])\n",
    "    lcs.append(lc)\n",
    "\n",
    "# Turn the list of dicts into a DataFrame    \n",
    "lcs = pd.DataFrame.from_records(lcs)\n"
   ]
  },
  {
   "cell_type": "code",
   "execution_count": 121,
   "id": "f0a3ba12-57a5-42f7-81ca-0438960750d5",
   "metadata": {},
   "outputs": [],
   "source": [
    "# we replace the NaN values with zeros, \n",
    "# we can use pd.map function, that act similarly to the classic Python map,\n",
    "                                                                                                                                                                                                                                                            b = 'u'\n",
    "lcs[b+'_'+mag_col+'_cleaned'] = lcs[b+'_'+mag_col].map(lambda l: np.where(np.isnan(l),0,l))\n"
   ]
  },
  {
   "cell_type": "code",
   "execution_count": 123,
   "id": "db53be26-d334-44b4-9287-df317f7003e9",
   "metadata": {},
   "outputs": [],
   "source": [
    "# we discard NaN values entirely. this works only for pd.Series.\n",
    "\n",
    "b = \"u\"\n",
    "\n",
    "# Create column names variables for better readability\n",
    "mcol = b + \"_\" + mag_col\n",
    "tcol = b + \"_\" + time_col\n",
    "mcol_cl = mcol + \"_cleaned\"\n",
    "tcol_cl = tcol + \"_cleaned\"\n",
    "\n",
    "# The new cleaned columns, `mcol_cl` and `tcol_cl`, contain the result of applying\n",
    "# a lambda function to each row (`axis=1` argument). The lambda function returns a tuple\n",
    "# of two numpy arrays, filtered according to the mask that is `False` for the elements that\n",
    "# are NaNs and `True` to all other elements.\n",
    "\n",
    "lcs[[mcol_cl, tcol_cl]] = lcs.apply(\n",
    "    lambda l: (\n",
    "        l[mcol][~np.isnan(l[mcol])],\n",
    "        l[tcol][~np.isnan(l[mcol])],\n",
    "    ),\n",
    "    axis=1,\n",
    "    result_type=\"expand\",\n",
    ")\n",
    "\n",
    "\n"
   ]
  },
  {
   "cell_type": "code",
   "execution_count": 125,
   "id": "cb77ad60-76d0-405c-8414-5989f803d0df",
   "metadata": {},
   "outputs": [
    {
     "name": "stdout",
     "output_type": "stream",
     "text": [
      "[0, 2, 4, 6, 8]\n"
     ]
    }
   ],
   "source": [
    "integers = range(5)\n",
    "double_ints = [2 * i for i in integers]\n",
    "\n",
    "print(double_ints)"
   ]
  },
  {
   "cell_type": "code",
   "execution_count": 126,
   "id": "ddbe352b-9a57-4ba5-bc8b-e59329fc4bd6",
   "metadata": {},
   "outputs": [
    {
     "name": "stdout",
     "output_type": "stream",
     "text": [
      "[0, 2, 4, 6, 8]\n"
     ]
    }
   ],
   "source": [
    "integers = range(5)\n",
    "double_ints = map(lambda i: 2 * i, integers)\n",
    "print(list(double_ints))"
   ]
  },
  {
   "cell_type": "code",
   "execution_count": 132,
   "id": "38b75a52-ce58-4382-ba56-78f4336b322e",
   "metadata": {},
   "outputs": [
    {
     "name": "stdout",
     "output_type": "stream",
     "text": [
      "[0, 4, 8]\n"
     ]
    }
   ],
   "source": [
    "integers = range(5)\n",
    "double_even_ints = [2 * i for i in integers if i % 2 == 0]\n",
    "print(double_even_ints)"
   ]
  },
  {
   "cell_type": "code",
   "execution_count": 131,
   "id": "2eebd9d3-29a5-421f-bc27-4b11f40a5a44",
   "metadata": {},
   "outputs": [
    {
     "name": "stdout",
     "output_type": "stream",
     "text": [
      "{0, 8, 4}\n",
      "{0: 0, 2: 4, 4: 8}\n"
     ]
    }
   ],
   "source": [
    "double_even_int_set = {2 * i for i in integers if i % 2 == 0}\n",
    "print(double_even_int_set)\n",
    "\n",
    "double_even_int_dict = {i: 2 * i for i in integers if i % 2 == 0}\n",
    "print(double_even_int_dict)"
   ]
  },
  {
   "cell_type": "code",
   "execution_count": 133,
   "id": "e2896075-51c6-47e1-b720-c3200d4f2a77",
   "metadata": {},
   "outputs": [
    {
     "name": "stdout",
     "output_type": "stream",
     "text": [
      "0\n",
      "2\n",
      "4\n",
      "6\n",
      "8\n"
     ]
    }
   ],
   "source": [
    "\n",
    "doubles_generator = (2 * i for i in integers)\n",
    "for x in doubles_generator:\n",
    "   print(x)"
   ]
  },
  {
   "cell_type": "code",
   "execution_count": 137,
   "id": "c30c3965-a3a5-420b-a9f2-4df9fde88c5d",
   "metadata": {},
   "outputs": [
    {
     "name": "stdout",
     "output_type": "stream",
     "text": [
      "48\n",
      "48\n"
     ]
    }
   ],
   "source": [
    "sequence = [1, 2, 3, 4, 2]\n",
    "\n",
    "def product(a, b):\n",
    "    return a * b\n",
    "\n",
    "print(reduce(product, sequence))\n",
    "\n",
    "# The same reduction using a lambda function\n",
    "print(reduce((lambda a, b: a * b), sequence))\n"
   ]
  },
  {
   "cell_type": "code",
   "execution_count": 139,
   "id": "727e4c62-6624-4659-9f0c-365f6537bd1d",
   "metadata": {},
   "outputs": [
    {
     "name": "stdout",
     "output_type": "stream",
     "text": [
      "15\n",
      "15\n"
     ]
    }
   ],
   "source": [
    "sequence = [1, 2, 3, 4, 2, 3]\n",
    "\n",
    "def add(a, b):\n",
    "    return a + b\n",
    "\n",
    "print(reduce(add, sequence))\n",
    "\n",
    "# The same reduction using a lambda function\n",
    "print(reduce((lambda a, b: a + b), sequence))\n",
    "\n"
   ]
  },
  {
   "cell_type": "code",
   "execution_count": 140,
   "id": "5a59f3f7-55b4-4f67-8421-341fbef030ad",
   "metadata": {},
   "outputs": [],
   "source": [
    "# function that calculates the sum of the squares of the values in a list using the MapReduce approach.\n",
    "\n",
    "def sum_of_squares(sequence):\n",
    "    squares = [x * x for x in sequence]  # use list comprehension for mapping\n",
    "    return reduce(lambda a, b: a + b, squares)"
   ]
  },
  {
   "cell_type": "code",
   "execution_count": 141,
   "id": "a9ee5a23-038b-4660-b35d-1a6eb141540e",
   "metadata": {},
   "outputs": [
    {
     "name": "stdout",
     "output_type": "stream",
     "text": [
      "0\n",
      "1\n",
      "14\n",
      "1\n",
      "14\n"
     ]
    }
   ],
   "source": [
    "print(sum_of_squares([0]))\n",
    "print(sum_of_squares([1]))\n",
    "print(sum_of_squares([1, 2, 3]))\n",
    "print(sum_of_squares([-1]))\n",
    "print(sum_of_squares([-1, -2, -3]))"
   ]
  },
  {
   "cell_type": "code",
   "execution_count": 146,
   "id": "2b675aad-78af-42a4-9adc-389aa8a6e292",
   "metadata": {},
   "outputs": [],
   "source": [
    "def sum_of_squares(sequence):\n",
    "    integers = [int(x) for x in sequence if x[0] != '#']\n",
    "    squares = [x * x for x in integers]\n",
    "    return reduce(lambda a, b: a + b, squares)"
   ]
  },
  {
   "cell_type": "code",
   "execution_count": 147,
   "id": "fe157d67-f40d-4db4-95bf-4da57279d56d",
   "metadata": {},
   "outputs": [
    {
     "name": "stdout",
     "output_type": "stream",
     "text": [
      "14\n",
      "14\n",
      "14\n"
     ]
    }
   ],
   "source": [
    "print(sum_of_squares(['1', '2', '3']))\n",
    "print(sum_of_squares(['-1', '-2', '-3']))\n",
    "print(sum_of_squares(['1', '2', '#100', '3']))"
   ]
  },
  {
   "cell_type": "code",
   "execution_count": 148,
   "id": "b98ef098-2ae7-4558-86a4-633f68433f6c",
   "metadata": {},
   "outputs": [
    {
     "name": "stdout",
     "output_type": "stream",
     "text": [
      "Before function call\n",
      "Adding one\n",
      "After function call\n",
      "2\n",
      "Before function call\n",
      "Adding two\n",
      "After function call\n",
      "3\n"
     ]
    }
   ],
   "source": [
    "def with_logging(func):\n",
    "\n",
    "    \"\"\"A decorator which adds logging to a function.\"\"\"\n",
    "    def inner(*args, **kwargs):\n",
    "        print(\"Before function call\")\n",
    "        result = func(*args, **kwargs)\n",
    "        print(\"After function call\")\n",
    "        return result\n",
    "\n",
    "    return inner\n",
    "\n",
    "\n",
    "def add_one(n):\n",
    "    print(\"Adding one\")\n",
    "    return n + 1\n",
    "\n",
    "# Redefine function add_one by wrapping it within with_logging function\n",
    "add_one = with_logging(add_one)\n",
    "\n",
    "# Another way to redefine a function - using a decorator\n",
    "@with_logging\n",
    "def add_two(n):\n",
    "    print(\"Adding two\")\n",
    "    return n + 2\n",
    "\n",
    "print(add_one(1))\n",
    "print(add_two(1))\n",
    "\n"
   ]
  },
  {
   "cell_type": "code",
   "execution_count": 150,
   "id": "35923ccc-0fe8-4df5-bc54-2337bafc23d4",
   "metadata": {},
   "outputs": [
    {
     "name": "stdout",
     "output_type": "stream",
     "text": [
      "Took 0.212073 seconds\n",
      "333332833333500000\n"
     ]
    }
   ],
   "source": [
    "\n",
    "def profile(func):\n",
    "    def inner(*args, **kwargs):\n",
    "        start = time.process_time_ns()\n",
    "        result = func(*args, **kwargs)\n",
    "        stop = time.process_time_ns()\n",
    "\n",
    "        print(\"Took {0} seconds\".format((stop - start) / 1e9))\n",
    "        return result\n",
    "\n",
    "    return inner\n",
    "\n",
    "@profile\n",
    "def measure_me(n):\n",
    "    total = 0\n",
    "    for i in range(n):\n",
    "        total += i * i\n",
    "\n",
    "    return total\n",
    "\n",
    "print(measure_me(1000000))\n"
   ]
  },
  {
   "cell_type": "code",
   "execution_count": 151,
   "id": "f08989f1-b9ba-44d7-9078-3e917a5589c0",
   "metadata": {},
   "outputs": [
    {
     "name": "stdout",
     "output_type": "stream",
     "text": [
      "<class 'list'>\n",
      "<class 'dict'>\n",
      "<class 'set'>\n"
     ]
    }
   ],
   "source": [
    "my_list = [1, 2, 3]\n",
    "my_dict = {1: '1', 2: '2', 3: '3'}\n",
    "my_set = {1, 2, 3}\n",
    "\n",
    "print(type(my_list))\n",
    "print(type(my_dict))\n",
    "print(type(my_set))\n"
   ]
  },
  {
   "cell_type": "code",
   "execution_count": 172,
   "id": "5c5884cf-5ce9-41bf-b5a2-aef88215620d",
   "metadata": {},
   "outputs": [],
   "source": [
    "class Variable:\n",
    "    def __init__(self, obj_id):\n",
    "        self.obj_id = obj_id\n",
    "        self.lc = {\n",
    "                   'mjd': np.array([]),\n",
    "                   'mag': np.array([])\n",
    "                  }\n"
   ]
  },
  {
   "cell_type": "code",
   "execution_count": 173,
   "id": "c2c4e20b-7320-4553-83d6-3d04aef623a8",
   "metadata": {},
   "outputs": [
    {
     "name": "stdout",
     "output_type": "stream",
     "text": [
      "1405624461041897445\n"
     ]
    }
   ],
   "source": [
    "star_obs = Variable(obj_id)\n",
    "print(star_obs.obj_id)"
   ]
  },
  {
   "cell_type": "code",
   "execution_count": 189,
   "id": "0e2a72a2-c3c7-4aed-b5e6-f86be47b991c",
   "metadata": {},
   "outputs": [],
   "source": [
    "class Variable:\n",
    "    \"\"\"A Variable class\"\"\"\n",
    "    def __init__(self, obj_id):\n",
    "        self.obj_id = obj_id\n",
    "        self.lc = {\n",
    "                   'mjd': np.array([]),\n",
    "                   'mag': np.array([])\n",
    "                  }\n",
    "    \n",
    "    def __str__(self):\n",
    "      return str(self.obj_id)\n",
    "\n",
    "    def __len__(self):\n",
    "      return len(self.lc[\"mjd\"])\n",
    "\n",
    "    \n",
    "    def convert_to_array(self,data):\n",
    "       # Check if the data is iterable and convert it into np.array, otherwise raise an exception\n",
    "       if not isinstance(data, np.ndarray):\n",
    "           if isinstance(data, (list,tuple,pd.Series)):\n",
    "               data = np.array(data)\n",
    "           elif isinstance(data, (int, float)):\n",
    "               data = np.array([data])\n",
    "           else:\n",
    "               raise ValueError(\"The data type of the input is incorrect!\")\n",
    "       return data\n",
    "\n",
    "    def compare_len(self,arrs):\n",
    "       # Check that all arrays are of the same length\n",
    "       lens = [len(arr) for arr in arrs]\n",
    "       if len(set(lens)) > 1: # set() turns an iterable into a set of unique values.\n",
    "       # If the values are all the same, the set will contain only one element\n",
    "           raise ValueError(\"Passed timestamps and mags or mag_errs arrays have different lengths!\")\n",
    "       return\n",
    "       \n",
    "    def add_observations(self, mjds, mags, mag_errs=None):\n",
    "       \"\"\"\n",
    "       Adds observations to the light curve.\n",
    "\n",
    "       Args:\n",
    "         mjds: A vector of Modified Julian Dates (x values).\n",
    "         mags: A vector of luminosities (y values).\n",
    "         mag_errs: A vector of magnitude errors.\n",
    "       \"\"\"\n",
    "       self.lc[\"mjd\"] = self.convert_to_array(mjds)\n",
    "       self.lc[\"mag\"] = self.convert_to_array(mags)\n",
    "       if mag_errs is not None:\n",
    "           self.lc[\"mag_errs\"] = self.convert_to_array(mag_errs)\n",
    "       self.compare_len(self.lc.values())\n",
    "       return\n",
    "\n",
    "    @property\n",
    "    def mean_mag(self):\n",
    "        return np.mean(self.lc['mag'])\n",
    "\n"
   ]
  },
  {
   "cell_type": "code",
   "execution_count": 191,
   "id": "450d74f6-16a2-4549-b024-1412a040b7f9",
   "metadata": {},
   "outputs": [
    {
     "name": "stdout",
     "output_type": "stream",
     "text": [
      "1405624461041897445\n",
      "{'mjd': array([60559.2973682, 59791.3473572, 60559.2978172, 61017.0665232,\n",
      "       60281.1630512, 59840.2103322, 60560.2654012, 61298.2853162,\n",
      "       60610.1669992, 60881.3838612, 61269.3333562, 59841.2948172,\n",
      "       59840.2107802, 60555.2837972, 60880.4114602, 61109.0454832,\n",
      "       59841.3286042, 60962.2788762, 60260.1801602, 60145.4057402,\n",
      "       60610.1014732, 60962.2669892, 61329.2779102, 60588.1944462,\n",
      "       61329.2769632, 59791.3582372, 59840.2367152, 60993.0741872,\n",
      "       60880.3849662, 60993.0622822, 59958.1258722, 61109.0305462,\n",
      "       60286.0827232, 60962.2656102, 60962.1967542, 60962.1836422,\n",
      "       59840.2284672, 60610.1253832, 60588.2046822, 61356.1581872,\n",
      "       60610.1010252, 60962.3061112, 61084.1131352, 60530.3755112]), 'mag': array([17.0270149 , 17.9296522 , 17.02132289, 17.35962392, 17.64018619,\n",
      "       18.37622276, 17.42335279, 18.38669221, 18.38521324, 18.38482772,\n",
      "       18.38450526, 17.25162572, 18.37937516, 17.88716136, 18.25681606,\n",
      "       18.2554663 , 17.55746683, 18.35766259, 18.3059005 , 18.32610979,\n",
      "       18.39321037, 18.34992003, 17.54769736, 17.62174291, 17.54224865,\n",
      "       17.98639193, 18.35965367, 18.42444871, 18.14996456, 18.39800571,\n",
      "       18.36946863, 18.19869743, 18.36475293, 18.35016222, 18.38033414,\n",
      "       18.37293812, 18.35890407, 18.37379318, 17.2526037 , 18.36709694,\n",
      "       18.39023618, 18.40066128, 17.53591974, 17.01428644])}\n",
      "18.03180312045771\n"
     ]
    }
   ],
   "source": [
    "obj_id = lc_datasets['lsst']['objectId'].unique()[7]\n",
    "b = 'g'\n",
    "filt_band_obj = (lc_datasets['lsst']['objectId'] == obj_id) & (\n",
    "        lc_datasets['lsst']['band'] == b\n",
    "    )\n",
    "obj_obs = lc_datasets['lsst'][filt_band_obj]\n",
    "\n",
    "star = Variable(obj_id)\n",
    "print(star)\n",
    "\n",
    "star.add_observations(obj_obs[time_col],obj_obs[mag_col])\n",
    "print(star.lc)\n",
    "\n",
    "mean_mag = star.mean_mag\n",
    "print(mean_mag)\n",
    "\n",
    "\n",
    "\n",
    "\n",
    "\n"
   ]
  },
  {
   "cell_type": "code",
   "execution_count": 217,
   "id": "2df4ccfa-c678-40b4-896b-5cfdbd49a539",
   "metadata": {},
   "outputs": [],
   "source": [
    "class Lightcurve:\n",
    "    \"\"\"Class Lightcurve\"\"\"\n",
    "\n",
    "    def __init__(self, mjds=None, mags=None, mag_errs=None):\n",
    "        self.lc = {}\n",
    "        if mjds is not None:\n",
    "            self.add_observations(mjds, mags, mag_errs)\n",
    "\n",
    "    def add_observations(self, mjds, mags, mag_errs=None):\n",
    "        self.lc[\"mjds\"] = self.convert_to_array(mjds)\n",
    "        self.lc[\"mags\"] = self.convert_to_array(mags)\n",
    "        if mag_errs is not None:\n",
    "            self.lc[\"mag_errs\"] = self.convert_to_array(mag_errs)\n",
    "        self.compare_len(self.lc.values())\n",
    "        return self.lc\n",
    "\n",
    "    def convert_to_array(self, data):\n",
    "        if not isinstance(data, np.ndarray):\n",
    "            if isinstance(data, (list, tuple, pd.Series)):\n",
    "                data = np.array(data)\n",
    "            elif isinstance(data, (int, float)):\n",
    "                data = np.array([data])\n",
    "            else:\n",
    "                raise ValueError(\"The data type of the input is incorrect!\")\n",
    "        return data\n",
    "\n",
    "    def compare_len(self, arrs):\n",
    "        lens = [len(arr) for arr in arrs]\n",
    "        if len(set(lens)) > 1:\n",
    "            raise ValueError(\n",
    "                \"Passed timestamps and mags or mag_errs arrays have different lengths!\"\n",
    "            )\n",
    "        return\n",
    "\n",
    "    @property\n",
    "    def mean_mag(self):\n",
    "        return np.mean(self.lc[\"mags\"])\n",
    "\n",
    "    def __len__(self):\n",
    "        return len(self.lc[\"mjds\"])"
   ]
  },
  {
   "cell_type": "code",
   "execution_count": 218,
   "id": "9e6698c1-be9b-4d82-98b5-e7c23f79633c",
   "metadata": {},
   "outputs": [
    {
     "data": {
      "text/plain": [
       "{'g': <__main__.Lightcurve at 0x11eb090d0>}"
      ]
     },
     "execution_count": 218,
     "metadata": {},
     "output_type": "execute_result"
    }
   ],
   "source": [
    "star = Variable(obj_id)\n",
    "star.add_lc(band = b,mjds = obj_obs[time_col], mags = obj_obs[mag_col])\n"
   ]
  },
  {
   "cell_type": "code",
   "execution_count": 219,
   "id": "4df4b5af-ffdd-46a4-b9c3-c3aa5b56e0fe",
   "metadata": {},
   "outputs": [
    {
     "data": {
      "text/plain": [
       "18.03180312045771"
      ]
     },
     "execution_count": 219,
     "metadata": {},
     "output_type": "execute_result"
    }
   ],
   "source": [
    "star.mband_lc['g'].mean_mag"
   ]
  },
  {
   "cell_type": "code",
   "execution_count": 216,
   "id": "0cabc3b1-386c-45be-baec-1c1bfd5689f8",
   "metadata": {},
   "outputs": [
    {
     "name": "stdout",
     "output_type": "stream",
     "text": [
      "{}\n",
      "0.3\n"
     ]
    }
   ],
   "source": [
    "class RRLyrae(Variable):\n",
    "    \"\"\"A class for RR Lyrae stars.\"\"\"\n",
    "    def __init__(self, obj_id):\n",
    "        super().__init__(obj_id)\n",
    "        self.period = None\n",
    "\n",
    "    def period_determination(self, period_range=(0.1,3)):\n",
    "        \"\"\"A function to determine the period\"\"\"\n",
    "        self.period = 0.3\n",
    "        return\n",
    "\n",
    "rr_lyrae = RRLyrae(obj_id)\n",
    "rr_lyrae.period_determination()\n",
    "print(rr_lyrae.mband_lc)\n",
    "print(rr_lyrae.period)\n"
   ]
  },
  {
   "cell_type": "code",
   "execution_count": null,
   "id": "e18dadc9-6caf-4f3b-9a22-6f21ad081030",
   "metadata": {},
   "outputs": [],
   "source": []
  }
 ],
 "metadata": {
  "kernelspec": {
   "display_name": "Python 3 (ipykernel)",
   "language": "python",
   "name": "python3"
  },
  "language_info": {
   "codemirror_mode": {
    "name": "ipython",
    "version": 3
   },
   "file_extension": ".py",
   "mimetype": "text/x-python",
   "name": "python",
   "nbconvert_exporter": "python",
   "pygments_lexer": "ipython3",
   "version": "3.9.18"
  }
 },
 "nbformat": 4,
 "nbformat_minor": 5
}
